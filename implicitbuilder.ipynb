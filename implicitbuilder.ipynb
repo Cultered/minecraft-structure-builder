{
 "cells": [
  {
   "cell_type": "code",
   "execution_count": 21,
   "metadata": {},
   "outputs": [],
   "source": [
    "def eq(x,y,z,r):\n",
    "    return x**1 + y**1< z**2 #replace with your equation\n",
    "    \n",
    "def cordfind(x0, y0, z0, r):\n",
    "    import math;\n",
    "    points =[];\n",
    "    #build blocks in z-axis\n",
    "    for x in range(x0-r-1, x0+r+1):\n",
    "        for y in range(y0-r-1, y0+r+1):\n",
    "            prev_inside = False\n",
    "            for z in range(z0-r-1, z0+r+1):\n",
    "                inside = eq(x,y,z,r) \n",
    "                if inside != prev_inside:\n",
    "                    points.append((x,y,z))\n",
    "                prev_inside = inside\n",
    "    #build blocks in x-axis\n",
    "    for y in range(x0-r-1, x0+r+1):\n",
    "        for z in range(y0-r-1, y0+r+1):\n",
    "            prev_inside = False\n",
    "            for x in range(z0-r-1, z0+r+1):\n",
    "                inside = eq(x,y,z,r) \n",
    "                if inside != prev_inside:\n",
    "                    points.append((x,y,z))\n",
    "                prev_inside = inside\n",
    "    #build blocks in y-axis\n",
    "    for z in range(x0-r-1, x0+r+1):\n",
    "        for x in range(y0-r-1, y0+r+1):\n",
    "            prev_inside = False\n",
    "            for y in range(z0-r-1, z0+r+1):\n",
    "                inside = eq(x,y,z,r) \n",
    "                if inside != prev_inside:\n",
    "                    points.append((x,y,z))\n",
    "                prev_inside = inside\n",
    "\n",
    "    res = []\n",
    "    for i in points:\n",
    "        if i not in res:\n",
    "            res.append(i)\n",
    "\n",
    "    return(res);"
   ]
  },
  {
   "cell_type": "code",
   "execution_count": 22,
   "metadata": {},
   "outputs": [
    {
     "name": "stdout",
     "output_type": "stream",
     "text": [
      "7044\n"
     ]
    }
   ],
   "source": [
    "#generate minecraft function\n",
    "points = cordfind(0,0,0,20)\n",
    "print(len(points))\n",
    "with open('C:\\Users\\user-name\\AppData\\Roaming\\.minecraft\\saves\\world-name\\datapacks\\datapack-name\\data\\namespace\\functions\\function-name.mcfunction', 'w') as towrite:\n",
    "    for point in points:\n",
    "        command = \"setblock ~%d ~%d ~%d oak_wood\\n\" %(point[0],point[1],point[2]); #replace oak wood with a needed block\n",
    "        towrite.write(command);"
   ]
  },
  {
   "cell_type": "code",
   "execution_count": null,
   "metadata": {},
   "outputs": [],
   "source": []
  }
 ],
 "metadata": {
  "kernelspec": {
   "display_name": "Python 3",
   "language": "python",
   "name": "python3"
  },
  "language_info": {
   "codemirror_mode": {
    "name": "ipython",
    "version": 3
   },
   "file_extension": ".py",
   "mimetype": "text/x-python",
   "name": "python",
   "nbconvert_exporter": "python",
   "pygments_lexer": "ipython3",
   "version": "3.8.3"
  }
 },
 "nbformat": 4,
 "nbformat_minor": 4
}
